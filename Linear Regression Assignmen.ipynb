{
 "cells": [
  {
   "cell_type": "code",
   "execution_count": 1,
   "id": "a8fe8fa9-3634-4a24-9bac-f9fd7be02936",
   "metadata": {},
   "outputs": [],
   "source": [
    "import pandas as pd\n",
    "import numpy as np"
   ]
  },
  {
   "cell_type": "markdown",
   "id": "0719e3d3-1726-4fb9-8754-0959a52c3d12",
   "metadata": {},
   "source": [
    "# Given dataset"
   ]
  },
  {
   "cell_type": "code",
   "execution_count": 11,
   "id": "16cbeb4f-da9b-4d2b-aa24-fda9aab07de2",
   "metadata": {},
   "outputs": [
    {
     "name": "stdout",
     "output_type": "stream",
     "text": [
      "Collecting openpyxl\n",
      "  Downloading openpyxl-3.1.5-py2.py3-none-any.whl.metadata (2.5 kB)\n",
      "Collecting et-xmlfile (from openpyxl)\n",
      "  Downloading et_xmlfile-2.0.0-py3-none-any.whl.metadata (2.7 kB)\n",
      "Downloading openpyxl-3.1.5-py2.py3-none-any.whl (250 kB)\n",
      "Downloading et_xmlfile-2.0.0-py3-none-any.whl (18 kB)\n",
      "Installing collected packages: et-xmlfile, openpyxl\n",
      "\n",
      "   -------------------- ------------------- 1/2 [openpyxl]\n",
      "   -------------------- ------------------- 1/2 [openpyxl]\n",
      "   -------------------- ------------------- 1/2 [openpyxl]\n",
      "   -------------------- ------------------- 1/2 [openpyxl]\n",
      "   -------------------- ------------------- 1/2 [openpyxl]\n",
      "   -------------------- ------------------- 1/2 [openpyxl]\n",
      "   -------------------- ------------------- 1/2 [openpyxl]\n",
      "   -------------------- ------------------- 1/2 [openpyxl]\n",
      "   -------------------- ------------------- 1/2 [openpyxl]\n",
      "   -------------------- ------------------- 1/2 [openpyxl]\n",
      "   -------------------- ------------------- 1/2 [openpyxl]\n",
      "   -------------------- ------------------- 1/2 [openpyxl]\n",
      "   -------------------- ------------------- 1/2 [openpyxl]\n",
      "   -------------------- ------------------- 1/2 [openpyxl]\n",
      "   -------------------- ------------------- 1/2 [openpyxl]\n",
      "   -------------------- ------------------- 1/2 [openpyxl]\n",
      "   -------------------- ------------------- 1/2 [openpyxl]\n",
      "   ---------------------------------------- 2/2 [openpyxl]\n",
      "\n",
      "Successfully installed et-xmlfile-2.0.0 openpyxl-3.1.5\n"
     ]
    }
   ],
   "source": [
    "!pip install openpyxl"
   ]
  },
  {
   "cell_type": "code",
   "execution_count": 18,
   "id": "70a27060-3f7a-4693-b7b7-81608355a419",
   "metadata": {},
   "outputs": [
    {
     "data": {
      "text/plain": [
       "(np.float64(9.87327188940092), 'linear_regression_results_with_65.xlsx')"
      ]
     },
     "execution_count": 18,
     "metadata": {},
     "output_type": "execute_result"
    }
   ],
   "source": [
    "data = { \n",
    "    \"Weight\": [2, 4, 5, 3, 6, 5, 7],\n",
    "    \"Price\" : [35, 60, 20, 50, 50, 55, 60]\n",
    "}\n",
    "df = pd.DataFrame(data)\n",
    "\n",
    "# Task 1: Compute slope (M) and intercept (C) using OLS\n",
    "x = df[\"Weight\"]\n",
    "y = df[\"Price\"]\n",
    "\n",
    "x_mean = np.mean(x)\n",
    "y_mean = np.mean(y)\n",
    "\n",
    "# Slope(M)\n",
    "M = np.sum((x-x_mean) * (y-y_mean)) / np.sum((x-x_mean)**2)\n",
    "\n",
    "# Intercept (C)\n",
    "C = y_mean - M * x_mean\n",
    "\n",
    "# Calculate slope (M) and intercept (C) using OLS\n",
    "M = np.sum((x-x_mean) * (y-y_mean)) / np.sum((x-x_mean)**2)\n",
    "C = y_mean - M * x_mean\n",
    "\n",
    "\n",
    "# predicted for weight = 6.50\n",
    "predicted_price_65 = M * 6.5 + C\n",
    "\n",
    "# Add predictions and residuals\n",
    "df[\"Predicted\"] = M * df[\"Weight\"] + C\n",
    "df[\"Residual\"] = df[\"Price\"] - df[\"Predicted\"]\n",
    "\n",
    "# Calculate MSE and MAE\n",
    "MSE = np.mean(df[\"Residual\"]**2)\n",
    "MAE = np.mean(np.abs(df[\"Residual\"]))\n",
    "\n",
    "# Save to Excel with two sheets\n",
    "output_path = \"linear_regression_results_with_65.xlsx\" \n",
    "df.to_excel(output_path, index=False) \n",
    "\n",
    "with pd.ExcelWriter(output_path, engine=\"openpyxl\") as writer:\n",
    "    df.to_excel(writer, index=False, sheet_name=\"Data\")\n",
    "    summary_df.to_excel(writer, index=False, sheet_name=\"Summary\")\n",
    "\n",
    "summary_df = pd.DataFrame({\n",
    "    \"Slope (M)\" : [M],\n",
    "    \"Intercept (C)\": [C],\n",
    "    \"MSE\": [MSE],\n",
    "    \"MAE\": [MAE],\n",
    "    \"Predicted Price @ 6.5\": [predicted_price_65]\n",
    "})\n",
    "summary_df.to_excel(writer, index=False, sheet_name=\"Summary\")\n",
    "\n",
    "M, C, predicted_price_65, MSE; MAE, output_path\n",
    "\n",
    "\n",
    "\n",
    "\n",
    "\n",
    "\n",
    "\n",
    "\n",
    "    "
   ]
  },
  {
   "cell_type": "code",
   "execution_count": 19,
   "id": "81fcf774-decb-46cf-873b-ae380819444b",
   "metadata": {},
   "outputs": [
    {
     "data": {
      "text/plain": [
       "dict_keys(['Data', 'Summary'])"
      ]
     },
     "execution_count": 19,
     "metadata": {},
     "output_type": "execute_result"
    }
   ],
   "source": [
    "pd.read_excel(\"linear_regression_results_with_65.xlsx\", sheet_name=None).keys()\n",
    "# dict_keys(['Data', 'Summary'])"
   ]
  },
  {
   "cell_type": "code",
   "execution_count": 20,
   "id": "5816a78a-2aab-4234-a5be-0c24080f42a4",
   "metadata": {},
   "outputs": [
    {
     "name": "stdout",
     "output_type": "stream",
     "text": [
      "C:\\Data Science and Machine Learning With Python\\linear_regression_results_with_65.xlsx\n"
     ]
    }
   ],
   "source": [
    "from pathlib import Path\n",
    "print(Path(\"linear_regression_results_with_65.xlsx\").resolve())\n"
   ]
  },
  {
   "cell_type": "code",
   "execution_count": 22,
   "id": "718a6a7f-e01a-4029-b959-3d1e272ad7ff",
   "metadata": {},
   "outputs": [],
   "source": [
    "predicted_price_65 = M * 6.5 + C \n"
   ]
  },
  {
   "cell_type": "code",
   "execution_count": 24,
   "id": "92462405-ae67-49d6-a0c6-4b88cc6673e3",
   "metadata": {},
   "outputs": [],
   "source": [
    "save_dir = Path.cwd() / \"lr_outputs\"\n",
    "save_dir.mkdir(parents=True, exist_ok=True)\n",
    "output_path = save_dir / \"linear_regression_results_with_65.xlsx\"\n"
   ]
  },
  {
   "cell_type": "code",
   "execution_count": 2,
   "id": "a5374d4a-90d3-427f-804c-15b0f1b312ef",
   "metadata": {},
   "outputs": [],
   "source": [
    "df_out.to_csv(\"data.csv\", index=False)\n",
    "summary_df.to_csv(\"summary.csv\", index=False)\n"
   ]
  },
  {
   "cell_type": "code",
   "execution_count": null,
   "id": "9687642b-1a1b-4868-b2b4-9ff90ffe7b7e",
   "metadata": {},
   "outputs": [],
   "source": []
  }
 ],
 "metadata": {
  "kernelspec": {
   "display_name": "Python 3 (ipykernel)",
   "language": "python",
   "name": "python3"
  },
  "language_info": {
   "codemirror_mode": {
    "name": "ipython",
    "version": 3
   },
   "file_extension": ".py",
   "mimetype": "text/x-python",
   "name": "python",
   "nbconvert_exporter": "python",
   "pygments_lexer": "ipython3",
   "version": "3.11.0"
  }
 },
 "nbformat": 4,
 "nbformat_minor": 5
}
