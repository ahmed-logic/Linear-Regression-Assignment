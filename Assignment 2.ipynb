{
 "cells": [
  {
   "cell_type": "code",
   "execution_count": 1,
   "id": "ebcb8382-3803-4765-9e55-e3a96f8a99c0",
   "metadata": {},
   "outputs": [
    {
     "name": "stdout",
     "output_type": "stream",
     "text": [
      "M = 2.620967741935484\n",
      "C = 35.16129032258065\n",
      "Pred @ 6.5 = 52.197580645161295\n",
      "Residuals = [ -5.40322581  14.35483871 -28.26612903   6.97580645  -0.88709677\n",
      "   6.73387097   6.49193548]\n",
      "MSE = 167.30990783410135\n",
      "MAE = 9.87327188940092\n"
     ]
    }
   ],
   "source": [
    "import numpy as np\n",
    "\n",
    "x = np.array([2,4,5,3,6,5,7], float)   # Weight\n",
    "y = np.array([35,60,20,50,50,55,60], float)  # Price\n",
    "\n",
    "M = ((x - x.mean())*(y - y.mean())).sum() / ((x - x.mean())**2).sum()\n",
    "C = y.mean() - M*x.mean()\n",
    "pred65 = M*6.5 + C\n",
    "\n",
    "res = y - (M*x + C)\n",
    "MSE = (res**2).mean()\n",
    "MAE = np.abs(res).mean()\n",
    "\n",
    "print(\"M =\", M)\n",
    "print(\"C =\", C)\n",
    "print(\"Pred @ 6.5 =\", pred65)\n",
    "print(\"Residuals =\", res)\n",
    "print(\"MSE =\", MSE)\n",
    "print(\"MAE =\", MAE)\n"
   ]
  },
  {
   "cell_type": "code",
   "execution_count": 4,
   "id": "1fed2956-3518-4cb7-9f5e-3955cd51935b",
   "metadata": {},
   "outputs": [
    {
     "name": "stdout",
     "output_type": "stream",
     "text": [
      "dict_keys(['Data', 'Summary'])\n",
      "   Weight  Price  Predicted   Residual\n",
      "2       5     20  48.266129 -28.266129\n",
      "3       3     50  43.024194   6.975806\n",
      "4       6     50  50.887097  -0.887097\n",
      "5       5     55  48.266129   6.733871\n",
      "6       7     60  53.508065   6.491935\n"
     ]
    }
   ],
   "source": [
    "import pandas as pd\n",
    "\n",
    "# show all sheet names\n",
    "print(pd.read_excel(\"linear_regression_results_with_65.xlsx\", sheet_name=None).keys())\n",
    "\n",
    "# optional: peek at the bottom of the Data sheet to see the 6.5 row\n",
    "df_check = pd.read_excel(\"linear_regression_results_with_65.xlsx\", sheet_name=\"Data\")\n",
    "print(df_check.tail())\n"
   ]
  },
  {
   "cell_type": "code",
   "execution_count": 2,
   "id": "b513f576-5d82-4c27-a201-b8013cbddebb",
   "metadata": {},
   "outputs": [],
   "source": [
    "output_path = \"linear_regression_results_with_65.xlsx\"\n"
   ]
  },
  {
   "cell_type": "code",
   "execution_count": 3,
   "id": "47eb141f-58b2-4e22-9f36-eff22a6fe0e4",
   "metadata": {},
   "outputs": [],
   "source": [
    "import os\n",
    "os.startfile(str(output_path))  # Windows only\n"
   ]
  },
  {
   "cell_type": "code",
   "execution_count": null,
   "id": "92d31604-526e-459c-adca-896ab62d5193",
   "metadata": {},
   "outputs": [],
   "source": []
  }
 ],
 "metadata": {
  "kernelspec": {
   "display_name": "Python 3 (ipykernel)",
   "language": "python",
   "name": "python3"
  },
  "language_info": {
   "codemirror_mode": {
    "name": "ipython",
    "version": 3
   },
   "file_extension": ".py",
   "mimetype": "text/x-python",
   "name": "python",
   "nbconvert_exporter": "python",
   "pygments_lexer": "ipython3",
   "version": "3.11.0"
  }
 },
 "nbformat": 4,
 "nbformat_minor": 5
}
