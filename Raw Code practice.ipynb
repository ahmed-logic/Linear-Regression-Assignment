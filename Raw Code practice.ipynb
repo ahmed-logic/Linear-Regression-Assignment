{
 "cells": [
  {
   "cell_type": "code",
   "execution_count": null,
   "id": "9901ca36-2fa8-4362-b115-597ef22ff960",
   "metadata": {},
   "outputs": [],
   "source": [
    "import pandas as pd\n",
    "import numpy as np\n",
    "from sklearn.linear_model import LinearRegression"
   ]
  },
  {
   "cell_type": "code",
   "execution_count": null,
   "id": "b518b2f1-8d38-482f-b7a8-a07d1ebfbdea",
   "metadata": {},
   "outputs": [],
   "source": [
    "x = np.array([1,2,3,4])\n",
    "y = np.array([2,3,5,4])"
   ]
  },
  {
   "cell_type": "code",
   "execution_count": null,
   "id": "ca6a2ee5-702e-47d2-ace8-d641d72fd8eb",
   "metadata": {},
   "outputs": [],
   "source": [
    "x"
   ]
  },
  {
   "cell_type": "markdown",
   "id": "6af8643f-ec83-4a53-8013-ab935422a4f8",
   "metadata": {},
   "source": [
    "Create DataFrame"
   ]
  },
  {
   "cell_type": "code",
   "execution_count": null,
   "id": "1dc635cb-f335-42ab-b169-289eb7776cc0",
   "metadata": {},
   "outputs": [],
   "source": [
    "df = pd.DataFrame({'x' : x, 'y': y})\n",
    "df\n"
   ]
  },
  {
   "cell_type": "code",
   "execution_count": null,
   "id": "306ca5b7-f268-4e21-850f-2b84568eb8bc",
   "metadata": {},
   "outputs": [],
   "source": [
    "X = df[['x']]\n",
    "y = df['y']"
   ]
  },
  {
   "cell_type": "markdown",
   "id": "59dd8df2-3df0-4fb8-8265-ded9789466d3",
   "metadata": {},
   "source": [
    "Using Sklearn to perform linear regression"
   ]
  },
  {
   "cell_type": "code",
   "execution_count": null,
   "id": "951701bf-428f-420a-bc84-1276ff91fd74",
   "metadata": {},
   "outputs": [],
   "source": [
    "model = LinearRegression().fit(X, y) #training model"
   ]
  },
  {
   "cell_type": "code",
   "execution_count": null,
   "id": "b85f2d8c-62a2-4b07-8467-aed41dcaffda",
   "metadata": {},
   "outputs": [],
   "source": [
    "slope_sklearn = model.coef_\n",
    "slope_sklearn"
   ]
  },
  {
   "cell_type": "code",
   "execution_count": null,
   "id": "65096a4e-85b5-4fe5-8ba8-35dc253114d3",
   "metadata": {},
   "outputs": [],
   "source": [
    "intercept_sklearn = model.intercept_\n",
    "intercept_sklearn"
   ]
  },
  {
   "cell_type": "markdown",
   "id": "81abf4b9-444e-4b6f-a29c-c3d9ed62b520",
   "metadata": {},
   "source": [
    "Manual Calculations using Formula 1"
   ]
  },
  {
   "cell_type": "code",
   "execution_count": null,
   "id": "25839049-659d-4ac3-b0d0-f9064d6233f1",
   "metadata": {},
   "outputs": [],
   "source": [
    "N = len(x) \n",
    "sum_x = np.sum(x) \n",
    "sum_y = np.sum(y) \n",
    "sum_xy = np.sum(x * y) #MULTIPLICATION\n",
    "sum_x2 = np.sum(x**2) #SQUARE\n",
    "\n",
    "slope_formula1 = (N * sum_xy - sum_x * sum_y) / (N * sum_x2 - sum_x**2)\n",
    "intercept_formula1 = (sum_y - slope_formula1 * sum_x) / N\n"
   ]
  },
  {
   "cell_type": "code",
   "execution_count": null,
   "id": "911c9018-7077-4541-b0fa-a8ad15ea507e",
   "metadata": {},
   "outputs": [],
   "source": [
    "slope_formula1"
   ]
  },
  {
   "cell_type": "code",
   "execution_count": null,
   "id": "20d14787-ed99-4772-955d-6ad97c8b21d0",
   "metadata": {},
   "outputs": [],
   "source": [
    "intercept_formula1"
   ]
  },
  {
   "cell_type": "markdown",
   "id": "73518322-0292-4660-b0b2-eafc96cc483c",
   "metadata": {},
   "source": [
    "Manual calculations using Formula 2"
   ]
  },
  {
   "cell_type": "code",
   "execution_count": null,
   "id": "95654b58-dd45-4032-b6eb-e42e87c80288",
   "metadata": {},
   "outputs": [],
   "source": [
    "import numpy as np\n",
    "\n",
    "# Defining x and y\n",
    "x = np.array([1, 2, 3, 4])  # Your data for x\n",
    "y = np.array([2, 3, 5, 4])  # Your data for y\n",
    "\n",
    "# Calculate mean of x and y\n",
    "mean_x = np.mean(x)\n",
    "mean_y = np.mean(y)\n",
    "\n",
    "# Calculate slope using formula\n",
    "slope_formula2 = np.sum((x - mean_x) * (y - mean_y)) / np.sum((x - mean_x)**2)\n",
    "\n",
    "# Calculate intercept\n",
    "intercept_formula2 = mean_y - slope_formula2 * mean_x\n",
    "\n"
   ]
  },
  {
   "cell_type": "code",
   "execution_count": null,
   "id": "cd6a0989-a8ca-41ec-b7bd-3afbb420b2e1",
   "metadata": {},
   "outputs": [],
   "source": [
    "slope_formula2"
   ]
  },
  {
   "cell_type": "code",
   "execution_count": null,
   "id": "05dcb4a0-6486-4401-8aca-66a79a79adb2",
   "metadata": {},
   "outputs": [],
   "source": [
    "intercept_formula2"
   ]
  },
  {
   "cell_type": "markdown",
   "id": "641935d1-db23-4248-a5bd-aa693c61a7e4",
   "metadata": {},
   "source": [
    "Let's Compare the Results"
   ]
  },
  {
   "cell_type": "code",
   "execution_count": 4,
   "id": "99f71026-1cb8-4afa-a066-8e34c0266570",
   "metadata": {},
   "outputs": [
    {
     "name": "stdout",
     "output_type": "stream",
     "text": [
      "Slope (sklearn): 0.7999999999999997\n",
      "Intercept (sklearn): 1.5000000000000007\n"
     ]
    }
   ],
   "source": [
    "import numpy as np\n",
    "from sklearn.linear_model import LinearRegression\n",
    "\n",
    "# Data\n",
    "x = np.array([1, 2, 3, 4])\n",
    "y = np.array([2, 3, 5, 4])\n",
    "\n",
    "# Create the model\n",
    "model = LinearRegression()\n",
    "\n",
    "# Reshape x to be a 2D array as required by sklearn\n",
    "x_reshaped = x.reshape(-1, 1)\n",
    "\n",
    "# Fit the model with the data\n",
    "model.fit(x_reshaped, y)\n",
    "\n",
    "# Get the slope (coefficient) and intercept from sklearn\n",
    "slope_sklearn = model.coef_[0]\n",
    "intercept_sklearn = model.intercept_\n",
    "\n",
    "# Print the results from sklearn\n",
    "print(f\"Slope (sklearn): {slope_sklearn}\")\n",
    "print(f\"Intercept (sklearn): {intercept_sklearn}\")\n",
    "\n",
    "\n",
    "\n"
   ]
  },
  {
   "cell_type": "code",
   "execution_count": 6,
   "id": "e55dbfd4-0803-4823-ba3b-67110543a34d",
   "metadata": {},
   "outputs": [],
   "source": [
    "N = len(x) \n",
    "sum_x = np.sum(x) \n",
    "sum_y = np.sum(y) \n",
    "sum_xy = np.sum(x * y) #MULTIPLICATION\n",
    "sum_x2 = np.sum(x**2) #SQUARE\n",
    "\n",
    "slope_formula1 = (N * sum_xy - sum_x * sum_y) / (N * sum_x2 - sum_x**2)\n",
    "intercept_formula1 = (sum_y - slope_formula1 * sum_x) / N"
   ]
  },
  {
   "cell_type": "code",
   "execution_count": 7,
   "id": "af69945a-3e97-4d16-bb33-145f17b24de1",
   "metadata": {},
   "outputs": [
    {
     "data": {
      "text/plain": [
       "(np.float64(0.8), np.float64(1.5))"
      ]
     },
     "execution_count": 7,
     "metadata": {},
     "output_type": "execute_result"
    }
   ],
   "source": [
    "#formula 01\n",
    "(slope_formula1, intercept_formula1)"
   ]
  },
  {
   "cell_type": "code",
   "execution_count": 9,
   "id": "4cef4074-8bf8-4b78-b560-538905c9d0ee",
   "metadata": {},
   "outputs": [],
   "source": [
    "import numpy as np\n",
    "\n",
    "# Defining x and y\n",
    "x = np.array([1, 2, 3, 4])  # Your data for x\n",
    "y = np.array([2, 3, 5, 4])  # Your data for y\n",
    "\n",
    "# Calculate mean of x and y\n",
    "mean_x = np.mean(x)\n",
    "mean_y = np.mean(y)\n",
    "\n",
    "# Calculate slope using formula\n",
    "slope_formula2 = np.sum((x - mean_x) * (y - mean_y)) / np.sum((x - mean_x)**2)\n",
    "\n",
    "# Calculate intercept\n",
    "intercept_formula2 = mean_y - slope_formula2 * mean_x"
   ]
  },
  {
   "cell_type": "code",
   "execution_count": 10,
   "id": "e2626ae4-5e58-453c-9524-15bd2fac70fe",
   "metadata": {},
   "outputs": [
    {
     "data": {
      "text/plain": [
       "(np.float64(0.8), np.float64(1.5))"
      ]
     },
     "execution_count": 10,
     "metadata": {},
     "output_type": "execute_result"
    }
   ],
   "source": [
    "#formula 02\n",
    "(slope_formula2, intercept_formula2)"
   ]
  },
  {
   "cell_type": "markdown",
   "id": "a04aa8c7-3272-47c9-ae22-8d212793b88b",
   "metadata": {},
   "source": [
    "Residual Calculation"
   ]
  },
  {
   "cell_type": "code",
   "execution_count": 16,
   "id": "6fa9021a-18a3-40af-af9b-8fbaa266abd0",
   "metadata": {},
   "outputs": [],
   "source": [
    "X = df[['x']]\n",
    "y = df['y']"
   ]
  },
  {
   "cell_type": "code",
   "execution_count": 15,
   "id": "05b9902f-2b78-449c-8ce2-8f87301a2a68",
   "metadata": {},
   "outputs": [
    {
     "data": {
      "text/html": [
       "<div>\n",
       "<style scoped>\n",
       "    .dataframe tbody tr th:only-of-type {\n",
       "        vertical-align: middle;\n",
       "    }\n",
       "\n",
       "    .dataframe tbody tr th {\n",
       "        vertical-align: top;\n",
       "    }\n",
       "\n",
       "    .dataframe thead th {\n",
       "        text-align: right;\n",
       "    }\n",
       "</style>\n",
       "<table border=\"1\" class=\"dataframe\">\n",
       "  <thead>\n",
       "    <tr style=\"text-align: right;\">\n",
       "      <th></th>\n",
       "      <th>x</th>\n",
       "      <th>y</th>\n",
       "    </tr>\n",
       "  </thead>\n",
       "  <tbody>\n",
       "    <tr>\n",
       "      <th>0</th>\n",
       "      <td>1</td>\n",
       "      <td>2</td>\n",
       "    </tr>\n",
       "    <tr>\n",
       "      <th>1</th>\n",
       "      <td>2</td>\n",
       "      <td>3</td>\n",
       "    </tr>\n",
       "    <tr>\n",
       "      <th>2</th>\n",
       "      <td>3</td>\n",
       "      <td>5</td>\n",
       "    </tr>\n",
       "    <tr>\n",
       "      <th>3</th>\n",
       "      <td>4</td>\n",
       "      <td>4</td>\n",
       "    </tr>\n",
       "  </tbody>\n",
       "</table>\n",
       "</div>"
      ],
      "text/plain": [
       "   x  y\n",
       "0  1  2\n",
       "1  2  3\n",
       "2  3  5\n",
       "3  4  4"
      ]
     },
     "execution_count": 15,
     "metadata": {},
     "output_type": "execute_result"
    }
   ],
   "source": [
    "df = pd.DataFrame({'x': x, 'y': y})\n",
    "df"
   ]
  },
  {
   "cell_type": "code",
   "execution_count": 14,
   "id": "a1fac62e-eb44-4427-81b6-693acdcda3ea",
   "metadata": {},
   "outputs": [],
   "source": [
    "import pandas as pd"
   ]
  },
  {
   "cell_type": "code",
   "execution_count": 17,
   "id": "e0dfcc08-dad6-4ebc-b278-2c7a9192f4bf",
   "metadata": {},
   "outputs": [
    {
     "data": {
      "text/html": [
       "<div>\n",
       "<style scoped>\n",
       "    .dataframe tbody tr th:only-of-type {\n",
       "        vertical-align: middle;\n",
       "    }\n",
       "\n",
       "    .dataframe tbody tr th {\n",
       "        vertical-align: top;\n",
       "    }\n",
       "\n",
       "    .dataframe thead th {\n",
       "        text-align: right;\n",
       "    }\n",
       "</style>\n",
       "<table border=\"1\" class=\"dataframe\">\n",
       "  <thead>\n",
       "    <tr style=\"text-align: right;\">\n",
       "      <th></th>\n",
       "      <th>x</th>\n",
       "    </tr>\n",
       "  </thead>\n",
       "  <tbody>\n",
       "    <tr>\n",
       "      <th>0</th>\n",
       "      <td>1</td>\n",
       "    </tr>\n",
       "    <tr>\n",
       "      <th>1</th>\n",
       "      <td>2</td>\n",
       "    </tr>\n",
       "    <tr>\n",
       "      <th>2</th>\n",
       "      <td>3</td>\n",
       "    </tr>\n",
       "    <tr>\n",
       "      <th>3</th>\n",
       "      <td>4</td>\n",
       "    </tr>\n",
       "  </tbody>\n",
       "</table>\n",
       "</div>"
      ],
      "text/plain": [
       "   x\n",
       "0  1\n",
       "1  2\n",
       "2  3\n",
       "3  4"
      ]
     },
     "execution_count": 17,
     "metadata": {},
     "output_type": "execute_result"
    }
   ],
   "source": [
    "X"
   ]
  },
  {
   "cell_type": "code",
   "execution_count": 18,
   "id": "78337f38-1d7a-463f-b278-58bfb926da29",
   "metadata": {},
   "outputs": [
    {
     "name": "stderr",
     "output_type": "stream",
     "text": [
      "C:\\Users\\Admin\\AppData\\Local\\Programs\\Python\\Python311\\Lib\\site-packages\\sklearn\\utils\\validation.py:2742: UserWarning: X has feature names, but LinearRegression was fitted without feature names\n",
      "  warnings.warn(\n"
     ]
    },
    {
     "data": {
      "text/plain": [
       "array([2.3, 3.1, 3.9, 4.7])"
      ]
     },
     "execution_count": 18,
     "metadata": {},
     "output_type": "execute_result"
    }
   ],
   "source": [
    "model.predict(X)   #df['y_hat'] = model.predict(X)"
   ]
  },
  {
   "cell_type": "markdown",
   "id": "14f3271c-a5a1-43ee-b039-aeb92a4904fe",
   "metadata": {},
   "source": [
    "Create the example dataset"
   ]
  },
  {
   "cell_type": "markdown",
   "id": "8842fdf6-ec31-44bb-b3cc-8f6a0b914c25",
   "metadata": {},
   "source": [
    "Create a DataFrame"
   ]
  },
  {
   "cell_type": "code",
   "execution_count": 20,
   "id": "b300f8a4-1a58-44ff-ad4a-a0e2a033fb74",
   "metadata": {},
   "outputs": [
    {
     "name": "stdout",
     "output_type": "stream",
     "text": [
      "   x  y\n",
      "0  1  2\n",
      "1  2  3\n",
      "2  3  5\n",
      "3  4  4\n"
     ]
    }
   ],
   "source": [
    "import pandas as pd\n",
    "\n",
    "# Example data as a dictionary\n",
    "data = {\n",
    "    'x': [1, 2, 3, 4],\n",
    "    'y': [2, 3, 5, 4]\n",
    "}\n",
    "\n",
    "# Create DataFrame\n",
    "df = pd.DataFrame(data)\n",
    "\n",
    "# Display the DataFrame\n",
    "print(df)\n"
   ]
  },
  {
   "cell_type": "markdown",
   "id": "d509cf56-d6a5-4c3f-8dfb-3ec256903b2b",
   "metadata": {},
   "source": [
    "Calculate residuals"
   ]
  },
  {
   "cell_type": "code",
   "execution_count": 22,
   "id": "1049d617-aa23-42fe-8644-84e2989b56c9",
   "metadata": {},
   "outputs": [
    {
     "name": "stdout",
     "output_type": "stream",
     "text": [
      "   x  y  y_hat  Residuals\n",
      "0  1  2    2.3       -0.3\n",
      "1  2  3    3.1       -0.1\n",
      "2  3  5    3.9        1.1\n",
      "3  4  4    4.7       -0.7\n"
     ]
    }
   ],
   "source": [
    "import pandas as pd\n",
    "import numpy as np\n",
    "from sklearn.linear_model import LinearRegression\n",
    "\n",
    "# Example data\n",
    "x = np.array([1, 2, 3, 4])\n",
    "y = np.array([2, 3, 5, 4])\n",
    "\n",
    "# Create a DataFrame with x and y\n",
    "df = pd.DataFrame({'x': x, 'y': y})\n",
    "\n",
    "# Train the linear regression model\n",
    "model = LinearRegression()\n",
    "model.fit(x.reshape(-1, 1), y)\n",
    "\n",
    "# Add the predictions (y_hat) to the DataFrame\n",
    "df['y_hat'] = model.predict(x.reshape(-1, 1))\n",
    "\n",
    "# Add the Residuals column (Actual - Predicted)\n",
    "df['Residuals'] = df['y'] - df['y_hat']\n",
    "\n",
    "# Display the DataFrame with Residuals\n",
    "print(df)\n"
   ]
  },
  {
   "cell_type": "markdown",
   "id": "2e9d3540-fb3f-4bb5-9f75-db6d0d80861c",
   "metadata": {},
   "source": [
    "Calculate L1 Loss"
   ]
  },
  {
   "cell_type": "code",
   "execution_count": 23,
   "id": "7de1cc3c-c4d1-4f63-8587-efb73fc318d9",
   "metadata": {},
   "outputs": [
    {
     "data": {
      "text/plain": [
       "np.float64(2.2)"
      ]
     },
     "execution_count": 23,
     "metadata": {},
     "output_type": "execute_result"
    }
   ],
   "source": [
    "L1_loss = df['Residuals'].abs().sum()\n",
    "L1_loss"
   ]
  },
  {
   "cell_type": "markdown",
   "id": "6fdcb12e-6cf7-40ff-9406-e0aa96860f45",
   "metadata": {},
   "source": [
    "Calculate L2 Loss"
   ]
  },
  {
   "cell_type": "code",
   "execution_count": 24,
   "id": "b5f5b832-37f6-4f66-ac99-94f79c5708bf",
   "metadata": {},
   "outputs": [
    {
     "data": {
      "text/plain": [
       "np.float64(1.8000000000000003)"
      ]
     },
     "execution_count": 24,
     "metadata": {},
     "output_type": "execute_result"
    }
   ],
   "source": [
    "L2_loss = (df['Residuals']**2).sum()\n",
    "L2_loss"
   ]
  },
  {
   "cell_type": "markdown",
   "id": "cd115088-237f-4697-80b9-57123e53cdbb",
   "metadata": {},
   "source": [
    "Display the DataFrame with the residuals and the calculated losses"
   ]
  },
  {
   "cell_type": "code",
   "execution_count": 25,
   "id": "6412da5f-daf0-4dde-9732-4a3de17bb25e",
   "metadata": {},
   "outputs": [
    {
     "data": {
      "text/html": [
       "<div>\n",
       "<style scoped>\n",
       "    .dataframe tbody tr th:only-of-type {\n",
       "        vertical-align: middle;\n",
       "    }\n",
       "\n",
       "    .dataframe tbody tr th {\n",
       "        vertical-align: top;\n",
       "    }\n",
       "\n",
       "    .dataframe thead th {\n",
       "        text-align: right;\n",
       "    }\n",
       "</style>\n",
       "<table border=\"1\" class=\"dataframe\">\n",
       "  <thead>\n",
       "    <tr style=\"text-align: right;\">\n",
       "      <th></th>\n",
       "      <th>x</th>\n",
       "      <th>y</th>\n",
       "      <th>y_hat</th>\n",
       "      <th>Residuals</th>\n",
       "    </tr>\n",
       "  </thead>\n",
       "  <tbody>\n",
       "    <tr>\n",
       "      <th>0</th>\n",
       "      <td>1</td>\n",
       "      <td>2</td>\n",
       "      <td>2.3</td>\n",
       "      <td>-0.3</td>\n",
       "    </tr>\n",
       "    <tr>\n",
       "      <th>1</th>\n",
       "      <td>2</td>\n",
       "      <td>3</td>\n",
       "      <td>3.1</td>\n",
       "      <td>-0.1</td>\n",
       "    </tr>\n",
       "    <tr>\n",
       "      <th>2</th>\n",
       "      <td>3</td>\n",
       "      <td>5</td>\n",
       "      <td>3.9</td>\n",
       "      <td>1.1</td>\n",
       "    </tr>\n",
       "    <tr>\n",
       "      <th>3</th>\n",
       "      <td>4</td>\n",
       "      <td>4</td>\n",
       "      <td>4.7</td>\n",
       "      <td>-0.7</td>\n",
       "    </tr>\n",
       "  </tbody>\n",
       "</table>\n",
       "</div>"
      ],
      "text/plain": [
       "   x  y  y_hat  Residuals\n",
       "0  1  2    2.3       -0.3\n",
       "1  2  3    3.1       -0.1\n",
       "2  3  5    3.9        1.1\n",
       "3  4  4    4.7       -0.7"
      ]
     },
     "execution_count": 25,
     "metadata": {},
     "output_type": "execute_result"
    }
   ],
   "source": [
    "df"
   ]
  },
  {
   "cell_type": "code",
   "execution_count": 26,
   "id": "c5d5b4b1-79b1-43d6-bb8f-4684a4280f4f",
   "metadata": {},
   "outputs": [
    {
     "name": "stdout",
     "output_type": "stream",
     "text": [
      "L1 Loss = 2.2, L2 Loss = 1.8000000000000003\n"
     ]
    }
   ],
   "source": [
    "print(f\"L1 Loss = {L1_loss}, L2 Loss = {L2_loss}\")"
   ]
  },
  {
   "cell_type": "code",
   "execution_count": 27,
   "id": "25a7bee6-cbb5-4184-bfa5-8d10599834c3",
   "metadata": {},
   "outputs": [
    {
     "name": "stdout",
     "output_type": "stream",
     "text": [
      "L1 Loss = 2.20, L2 Loss = 1.80\n"
     ]
    }
   ],
   "source": [
    "print(f\"L1 Loss = {L1_loss:.2f}, L2 Loss = {L2_loss:.2f}\") #2 DIGIT after dot.A"
   ]
  },
  {
   "cell_type": "code",
   "execution_count": null,
   "id": "c6a170e7-72ea-45ae-a564-d3a0918d3bba",
   "metadata": {},
   "outputs": [],
   "source": []
  }
 ],
 "metadata": {
  "kernelspec": {
   "display_name": "Python 3 (ipykernel)",
   "language": "python",
   "name": "python3"
  },
  "language_info": {
   "codemirror_mode": {
    "name": "ipython",
    "version": 3
   },
   "file_extension": ".py",
   "mimetype": "text/x-python",
   "name": "python",
   "nbconvert_exporter": "python",
   "pygments_lexer": "ipython3",
   "version": "3.11.0"
  }
 },
 "nbformat": 4,
 "nbformat_minor": 5
}
