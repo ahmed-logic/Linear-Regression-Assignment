{
 "cells": [
  {
   "cell_type": "code",
   "execution_count": 5,
   "id": "fac94a25-912e-4b4d-9820-7c9bf4dfe8e4",
   "metadata": {},
   "outputs": [
    {
     "name": "stdout",
     "output_type": "stream",
     "text": [
      "M = 2.620967741935484\n",
      "C = 35.16129032258065\n",
      "Predicted price at 6.5 = 52.197580645161295\n"
     ]
    }
   ],
   "source": [
    "import numpy as np\n",
    "\n",
    "x = np.array([2,4,5,3,6,5,7], float)   # Weight\n",
    "y = np.array([35,60,20,50,50,55,60], float)  # Price\n",
    "\n",
    "M = ((x - x.mean())*(y - y.mean())).sum() / ((x - x.mean())**2).sum()\n",
    "C = y.mean() - M*x.mean()\n",
    "\n",
    "pred_65 = M*6.5 + C   # change 6.5 -> 6 if you want the original assignment\n",
    "\n",
    "print(\"M =\", M)\n",
    "print(\"C =\", C)\n",
    "print(\"Predicted price at 6.5 =\", pred_65)\n"
   ]
  },
  {
   "cell_type": "code",
   "execution_count": 6,
   "id": "efb2e93a-4da6-422b-afa3-0e33463f4151",
   "metadata": {},
   "outputs": [
    {
     "name": "stdout",
     "output_type": "stream",
     "text": [
      "Residuals: [ -5.40322581  14.35483871 -28.26612903   6.97580645  -0.88709677\n",
      "   6.73387097   6.49193548]\n"
     ]
    }
   ],
   "source": [
    "# Residuals = Actual - Predicted\n",
    "y_hat = M*x + C\n",
    "residuals = y - y_hat\n",
    "\n",
    "print(\"Residuals:\", residuals)"
   ]
  },
  {
   "cell_type": "code",
   "execution_count": 7,
   "id": "d8e9d3dd-13df-47eb-8925-53c26247b5d1",
   "metadata": {},
   "outputs": [
    {
     "name": "stdout",
     "output_type": "stream",
     "text": [
      "MSE: 167.30990783410135\n",
      "MAE: 9.87327188940092\n"
     ]
    }
   ],
   "source": [
    "# Residuals\n",
    "res = y - (M*x + C)\n",
    "\n",
    "# Task 03: errors\n",
    "MSE = (res**2).mean()\n",
    "MAE = np.abs(res).mean()\n",
    "\n",
    "print(\"MSE:\", MSE)\n",
    "print(\"MAE:\", MAE)"
   ]
  },
  {
   "cell_type": "code",
   "execution_count": 15,
   "id": "f2811c11-5ebe-4dfb-b97d-3b2e937e0197",
   "metadata": {},
   "outputs": [
    {
     "name": "stdout",
     "output_type": "stream",
     "text": [
      "Saved: linear_regression_results.xlsx\n"
     ]
    }
   ],
   "source": [
    "import numpy as np\n",
    "import pandas as pd\n",
    "\n",
    "# Data\n",
    "df = pd.DataFrame({\"Weight\":[2,4,5,3,6,5,7],\n",
    "                   \"Price\":[35,60,20,50,50,55,60]})\n",
    "\n",
    "# OLS: y = Mx + C (pandas math)\n",
    "x, y = df[\"Weight\"], df[\"Price\"]\n",
    "M = ((x - x.mean())*(y - y.mean())).sum() / ((x - x.mean())**2).sum()\n",
    "C = y.mean() - M*x.mean()\n",
    "\n",
    "# Predictions + residuals\n",
    "df[\"Predicted\"] = M*df[\"Weight\"] + C\n",
    "df[\"Residual\"]  = df[\"Price\"] - df[\"Predicted\"]\n",
    "\n",
    "# Add weight = 6.5 row (use np.nan for missing actual/residual)\n",
    "pred65 = M*6.5 + C\n",
    "df_out = df.copy()\n",
    "df_out.loc[len(df_out)] = {\"Weight\": 6.5, \"Price\": np.nan, \"Predicted\": pred65, \"Residual\": np.nan}\n",
    "\n",
    "# Save one Excel sheet\n",
    "df_out.to_excel(\"linear_regression_results.xlsx\", index=False)\n",
    "print(\"Saved: linear_regression_results.xlsx\")\n"
   ]
  },
  {
   "cell_type": "code",
   "execution_count": 18,
   "id": "480937a7-1e9c-4b2d-a9de-bc905aa4821b",
   "metadata": {},
   "outputs": [],
   "source": [
    "# after you build df_out\n",
    "df_out.to_csv(\"linear_regression_results.csv\", index=False, encoding=\"utf-8\")\n"
   ]
  },
  {
   "cell_type": "code",
   "execution_count": 20,
   "id": "aa448e5c-e942-4a14-8219-e9d10adeaef7",
   "metadata": {},
   "outputs": [
    {
     "name": "stdout",
     "output_type": "stream",
     "text": [
      "Collecting reportlab\n",
      "  Downloading reportlab-4.4.3-py3-none-any.whl.metadata (1.7 kB)\n",
      "Requirement already satisfied: pillow>=9.0.0 in c:\\users\\admin\\appdata\\local\\programs\\python\\python311\\lib\\site-packages (from reportlab) (11.3.0)\n",
      "Requirement already satisfied: charset-normalizer in c:\\users\\admin\\appdata\\local\\programs\\python\\python311\\lib\\site-packages (from reportlab) (3.4.2)\n",
      "Downloading reportlab-4.4.3-py3-none-any.whl (2.0 MB)\n",
      "   ---------------------------------------- 0.0/2.0 MB ? eta -:--:--\n",
      "   ---------------------------------------- 2.0/2.0 MB 15.5 MB/s  0:00:00\n",
      "Installing collected packages: reportlab\n",
      "Successfully installed reportlab-4.4.3\n",
      "Note: you may need to restart the kernel to use updated packages.\n"
     ]
    }
   ],
   "source": [
    "%pip install reportlab\n"
   ]
  },
  {
   "cell_type": "code",
   "execution_count": 22,
   "id": "b28b2001-5670-46ac-a7fb-a2c89c47601b",
   "metadata": {},
   "outputs": [
    {
     "name": "stdout",
     "output_type": "stream",
     "text": [
      "['Sheet1']\n"
     ]
    }
   ],
   "source": [
    "import pandas as pd\n",
    "\n",
    "xls = pd.ExcelFile(\"linear_regression_results.xlsx\")\n",
    "print(xls.sheet_names)          # e.g., ['Sheet1']\n",
    "df = pd.read_excel(xls, sheet_name=0)  # read the first sheet\n"
   ]
  },
  {
   "cell_type": "code",
   "execution_count": 23,
   "id": "5fcdd5c7-5034-4e6e-9c47-0a6fdce65ea2",
   "metadata": {},
   "outputs": [
    {
     "name": "stdout",
     "output_type": "stream",
     "text": [
      "   Weight  Price  Predicted  Residual\n",
      "3     3.0   50.0  43.024194  6.975806\n",
      "4     6.0   50.0  50.887097 -0.887097\n",
      "5     5.0   55.0  48.266129  6.733871\n",
      "6     7.0   60.0  53.508065  6.491935\n",
      "7     6.5    NaN  52.197581       NaN\n"
     ]
    }
   ],
   "source": [
    "import pandas as pd\n",
    "\n",
    "# Read the sheet you have\n",
    "df = pd.read_excel(\"linear_regression_results.xlsx\", sheet_name=\"Sheet1\")\n",
    "print(df.tail())\n"
   ]
  },
  {
   "cell_type": "code",
   "execution_count": 24,
   "id": "d5499b4d-7caa-4b7d-805b-297b01a9726d",
   "metadata": {},
   "outputs": [],
   "source": [
    "df.to_excel(\"linear_regression_results.xlsx\", sheet_name=\"Sheet1\", index=False)\n"
   ]
  },
  {
   "cell_type": "code",
   "execution_count": null,
   "id": "0321f967-0991-456f-8b51-073cefaca2d4",
   "metadata": {},
   "outputs": [],
   "source": []
  }
 ],
 "metadata": {
  "kernelspec": {
   "display_name": "Python 3 (ipykernel)",
   "language": "python",
   "name": "python3"
  },
  "language_info": {
   "codemirror_mode": {
    "name": "ipython",
    "version": 3
   },
   "file_extension": ".py",
   "mimetype": "text/x-python",
   "name": "python",
   "nbconvert_exporter": "python",
   "pygments_lexer": "ipython3",
   "version": "3.11.0"
  }
 },
 "nbformat": 4,
 "nbformat_minor": 5
}
